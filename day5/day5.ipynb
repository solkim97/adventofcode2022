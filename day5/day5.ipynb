{
 "cells": [
  {
   "cell_type": "markdown",
   "metadata": {},
   "source": [
    "## Part 1"
   ]
  },
  {
   "cell_type": "code",
   "execution_count": 196,
   "metadata": {},
   "outputs": [
    {
     "name": "stdout",
     "output_type": "stream",
     "text": [
      "V\n",
      "P\n",
      "C\n",
      "D\n",
      "M\n",
      "S\n",
      "L\n",
      "W\n",
      "J\n"
     ]
    }
   ],
   "source": [
    "import numpy as np\n",
    "\n",
    "inputs = open('input.txt','r')\n",
    "\n",
    "i = 0\n",
    "stacks = []\n",
    "\n",
    "# Get clean list of lists of starting positions\n",
    "for input in inputs:\n",
    "    new = input.replace('\\n','')\n",
    "    if i < 9:\n",
    "        new = new[1] + ',' +new[5] + ',' + new[9] + ',' + new[13] + ',' + new[17] + ',' + new[21] + ',' + new[25] + ',' + new[29] + ',' + new[33]\n",
    "        x = new.split(\",\")\n",
    "        i+=1\n",
    "        stacks.insert(0,x)\n",
    "    else:\n",
    "        exit\n",
    "\n",
    "new_stacks = np.transpose(stacks).tolist()\n",
    "\n",
    "clean_stacks = []\n",
    "\n",
    "for stack in new_stacks:\n",
    "    x = [s for s in stack if s != ' ']\n",
    "    clean_stacks.append(x)\n",
    "\n",
    "\n",
    "\n",
    "# Get numbers from instructions into list of lists\n",
    "instructions = open('input.txt','r')\n",
    "\n",
    "procedures = []\n",
    "j = 0\n",
    "\n",
    "for instruction in instructions:\n",
    "    if j < 10:\n",
    "        j+=1\n",
    "        continue\n",
    "    \n",
    "    new = instruction.replace('\\n','')\n",
    "    numbers = new.split(' ')\n",
    "    procedures.append([int(numbers[1]), int(numbers[3]), int(numbers[5])])\n",
    "\n",
    "\n",
    "\n",
    "# Perform instructions\n",
    "for procedure in procedures:\n",
    "    i = procedure[0]\n",
    "    j = 1\n",
    "    while j <= i:\n",
    "        clean_stacks[procedure[2]-1].append(clean_stacks[procedure[1]-1][len(clean_stacks[procedure[1]-1]) - 1])\n",
    "        clean_stacks[procedure[1]-1].pop()\n",
    "        j+=1\n",
    "\n",
    "\n",
    "\n",
    "for stack in clean_stacks:\n",
    "    print(stack[len(stack)-1])"
   ]
  },
  {
   "cell_type": "markdown",
   "metadata": {},
   "source": [
    "## Part 2"
   ]
  },
  {
   "cell_type": "code",
   "execution_count": 200,
   "metadata": {},
   "outputs": [
    {
     "name": "stdout",
     "output_type": "stream",
     "text": [
      "T\n",
      "P\n",
      "W\n",
      "C\n",
      "G\n",
      "N\n",
      "C\n",
      "C\n",
      "G\n"
     ]
    }
   ],
   "source": [
    "import numpy as np\n",
    "\n",
    "inputs = open('input.txt','r')\n",
    "\n",
    "i = 0\n",
    "stacks = []\n",
    "\n",
    "# Get clean list of lists of starting positions\n",
    "for input in inputs:\n",
    "    new = input.replace('\\n','')\n",
    "    if i < 9:\n",
    "        new = new[1] + ',' +new[5] + ',' + new[9] + ',' + new[13] + ',' + new[17] + ',' + new[21] + ',' + new[25] + ',' + new[29] + ',' + new[33]\n",
    "        x = new.split(\",\")\n",
    "        i+=1\n",
    "        stacks.insert(0,x)\n",
    "    else:\n",
    "        exit\n",
    "\n",
    "new_stacks = np.transpose(stacks).tolist()\n",
    "\n",
    "clean_stacks = []\n",
    "\n",
    "for stack in new_stacks:\n",
    "    x = [s for s in stack if s != ' ']\n",
    "    clean_stacks.append(x)\n",
    "\n",
    "\n",
    "\n",
    "# Get numbers from instructions into list of lists\n",
    "instructions = open('input.txt','r')\n",
    "\n",
    "procedures = []\n",
    "j = 0\n",
    "\n",
    "for instruction in instructions:\n",
    "    if j < 10:\n",
    "        j+=1\n",
    "        continue\n",
    "    \n",
    "    new = instruction.replace('\\n','')\n",
    "    numbers = new.split(' ')\n",
    "    procedures.append([int(numbers[1]), int(numbers[3]), int(numbers[5])])\n",
    "\n",
    "\n",
    "\n",
    "# Perform instructions\n",
    "for procedure in procedures:\n",
    "    i = 1\n",
    "    j = procedure[0]\n",
    "    while j >= i:\n",
    "        clean_stacks[procedure[2]-1].append(clean_stacks[procedure[1]-1][-j])\n",
    "        j-=1\n",
    "    clean_stacks[procedure[1]-1] = clean_stacks[procedure[1]-1][:(len(clean_stacks[procedure[1]-1]) - procedure[0])]\n",
    "\n",
    "\n",
    "for stack in clean_stacks:\n",
    "    print(stack[len(stack)-1])"
   ]
  }
 ],
 "metadata": {
  "kernelspec": {
   "display_name": "Python 3.9.6 64-bit",
   "language": "python",
   "name": "python3"
  },
  "language_info": {
   "codemirror_mode": {
    "name": "ipython",
    "version": 3
   },
   "file_extension": ".py",
   "mimetype": "text/x-python",
   "name": "python",
   "nbconvert_exporter": "python",
   "pygments_lexer": "ipython3",
   "version": "3.9.6"
  },
  "orig_nbformat": 4,
  "vscode": {
   "interpreter": {
    "hash": "31f2aee4e71d21fbe5cf8b01ff0e069b9275f58929596ceb00d14d90e3e16cd6"
   }
  }
 },
 "nbformat": 4,
 "nbformat_minor": 2
}
