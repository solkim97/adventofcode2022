{
 "cells": [
  {
   "cell_type": "markdown",
   "metadata": {},
   "source": [
    "## Part 1"
   ]
  },
  {
   "cell_type": "code",
   "execution_count": 63,
   "metadata": {},
   "outputs": [
    {
     "name": "stdout",
     "output_type": "stream",
     "text": [
      "1845\n"
     ]
    }
   ],
   "source": [
    "import pandas as pd\n",
    "\n",
    "df = pd.read_fwf('input.txt', widths = [1] * 99, header=None)\n",
    "\n",
    "#Functions to check if tree is visible from each direction\n",
    "def is_visible_from_up(df, column, row):\n",
    "    verdict = []\n",
    "    for i in range(0,row,1):\n",
    "        if df[column][row] > df[column][i]:\n",
    "            verdict.append(True)\n",
    "        else:\n",
    "            verdict.append(False)\n",
    "\n",
    "    if False in verdict:\n",
    "        return False\n",
    "    else:\n",
    "        return True\n",
    "    verdict = []\n",
    "\n",
    "def is_visible_from_down(df, column, row):\n",
    "    verdict = []\n",
    "    for i in range(row + 1,99,1):\n",
    "        if df[column][row] > df[column][i]:\n",
    "            verdict.append(True)\n",
    "        else:\n",
    "            verdict.append(False)\n",
    "\n",
    "    if False in verdict:\n",
    "        return False\n",
    "    else:\n",
    "        return True\n",
    "    verdict = []\n",
    "    \n",
    "def is_visible_from_left(df, column, row):\n",
    "    verdict = []\n",
    "    for i in range(0,column,1):\n",
    "        if df[column][row] > df[i][row]:\n",
    "            verdict.append(True)\n",
    "        else:\n",
    "            verdict.append(False)\n",
    "\n",
    "    if False in verdict:\n",
    "        return False\n",
    "    else:\n",
    "        return True\n",
    "    verdict = []\n",
    "\n",
    "\n",
    "def is_visible_from_right(df, column, row):\n",
    "    verdict = []\n",
    "    for i in range(column + 1,99,1):\n",
    "        if df[column][row] > df[i][row]:\n",
    "            verdict.append(True)\n",
    "        else:\n",
    "            verdict.append(False)\n",
    "\n",
    "    if False in verdict:\n",
    "        return False\n",
    "    else:\n",
    "        return True\n",
    "    verdict = []\n",
    "    \n",
    "\n",
    "\n",
    "visible_counter = 0\n",
    "\n",
    "for row in df:\n",
    "    for column in df:\n",
    "        if (row==0 or row==98) or (column == 0 or column == 98):\n",
    "            visible_counter += 1\n",
    "        else:\n",
    "            if (is_visible_from_up(df,column,row) == True) or (is_visible_from_down(df,column,row)==True) or (is_visible_from_left(df,column,row)==True) or (is_visible_from_right(df,column,row)==True):\n",
    "                visible_counter +=1\n",
    "                    \n",
    "print(visible_counter)\n",
    "                "
   ]
  },
  {
   "cell_type": "markdown",
   "metadata": {},
   "source": [
    "## Part 2"
   ]
  },
  {
   "cell_type": "code",
   "execution_count": 108,
   "metadata": {},
   "outputs": [
    {
     "name": "stdout",
     "output_type": "stream",
     "text": [
      "230112\n"
     ]
    }
   ],
   "source": [
    "import pandas as pd\n",
    "\n",
    "df = pd.read_fwf('input.txt', widths = [1] * 99, header=None)\n",
    "\n",
    "#Functions to calculate scores for each tree\n",
    "def up_score(df, column, row):\n",
    "    score = 0\n",
    "    for i in range(row-1,-1,-1):\n",
    "        if df[column][row] > df[column][i]:\n",
    "            score+=1\n",
    "        else:\n",
    "            score+=1\n",
    "            break\n",
    "    return score\n",
    "\n",
    "def down_score(df, column, row):\n",
    "    score = 0\n",
    "    for i in range(row+1,99,1):\n",
    "        if df[column][row] > df[column][i]:\n",
    "            score+=1\n",
    "        else:\n",
    "            score+=1\n",
    "            break\n",
    "    return score\n",
    "\n",
    "def left_score(df, column, row):\n",
    "    score = 0\n",
    "    for i in range(column-1,-1,-1):\n",
    "        if df[column][row] > df[i][row]:\n",
    "            score+=1\n",
    "        else:\n",
    "            score+=1\n",
    "            break\n",
    "    return score\n",
    "\n",
    "def right_score(df, column, row):\n",
    "    score = 0\n",
    "    for i in range(column+1,99,1):\n",
    "        if df[column][row] > df[i][row]:\n",
    "            score+=1\n",
    "        else:\n",
    "            score+=1\n",
    "            break\n",
    "    return score\n",
    "    \n",
    "\n",
    "scores = []\n",
    "\n",
    "for row in df:\n",
    "    for column in df:\n",
    "       if (row==0 or row==98) or (column == 0 or column == 98):\n",
    "            scores.append(0)\n",
    "       else:\n",
    "           total = up_score(df,column,row) * down_score(df,column,row) * left_score(df,column,row) * right_score(df,column,row)\n",
    "           scores.append(total)\n",
    "           \n",
    "\n",
    "print(max(scores))"
   ]
  }
 ],
 "metadata": {
  "kernelspec": {
   "display_name": "Python 3.9.6 64-bit",
   "language": "python",
   "name": "python3"
  },
  "language_info": {
   "codemirror_mode": {
    "name": "ipython",
    "version": 3
   },
   "file_extension": ".py",
   "mimetype": "text/x-python",
   "name": "python",
   "nbconvert_exporter": "python",
   "pygments_lexer": "ipython3",
   "version": "3.9.6"
  },
  "orig_nbformat": 4,
  "vscode": {
   "interpreter": {
    "hash": "31f2aee4e71d21fbe5cf8b01ff0e069b9275f58929596ceb00d14d90e3e16cd6"
   }
  }
 },
 "nbformat": 4,
 "nbformat_minor": 2
}
