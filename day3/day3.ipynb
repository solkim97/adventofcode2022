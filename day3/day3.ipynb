{
 "cells": [
  {
   "cell_type": "markdown",
   "metadata": {},
   "source": [
    "## Part 1"
   ]
  },
  {
   "cell_type": "code",
   "execution_count": 10,
   "metadata": {},
   "outputs": [
    {
     "name": "stdout",
     "output_type": "stream",
     "text": [
      "8185\n"
     ]
    }
   ],
   "source": [
    "inputs = open('input.txt','r')\n",
    "\n",
    "priorities = []\n",
    "\n",
    "for input in inputs:\n",
    "    #Find length of input and find the middle position\n",
    "    if input.find('\\n') != -1:\n",
    "        new = input.replace('\\n','')\n",
    "    else:\n",
    "        new = input\n",
    "    \n",
    "    length = len(new)\n",
    "    position = (length//2)\n",
    "    \n",
    "    compartments = [new[:position], new[position:]]\n",
    "    compart1 = compartments[0]\n",
    "    compart2 = compartments[1]\n",
    "    \n",
    "    common_char = ''.join(set(compart1).intersection(compart2))\n",
    "    priority = {'a':1,'b':2,'c':3,'d':4,'e':5,'f':6,'g':7,'h':8,'i':9,'j':10,'k':11,'l':12,'m':13,'n':14,'o':15,\n",
    "                  'p':16,'q':17,'r':18,'s':19,'t':20,'u':21,'v':22,'w':23,'x':24,'y':25,'z':26,'A':27,'B':28,'C':29,\n",
    "                  'D':30,'E':31,'F':32,'G':33,'H':34,'I':35,'J':36,'K':37,'L':38,'M':39,'N':40,'O':41,'P':42,'Q':43,\n",
    "                  'R':44,'S':45,'T':46,'U':47,'V':48,'W':49,'X':50,'Y':51,'Z':52}\n",
    "    priorities.append(priority[common_char])\n",
    "\n",
    "print(sum(priorities))"
   ]
  },
  {
   "cell_type": "markdown",
   "metadata": {},
   "source": [
    "## Part 2"
   ]
  },
  {
   "cell_type": "code",
   "execution_count": 30,
   "metadata": {},
   "outputs": [
    {
     "name": "stdout",
     "output_type": "stream",
     "text": [
      "2817\n"
     ]
    }
   ],
   "source": [
    "inputs = open('input.txt','r')\n",
    "\n",
    "groups = []\n",
    "group = []\n",
    "priorities = []\n",
    "counter = 1\n",
    "\n",
    "for input in inputs:\n",
    "    if input.find('\\n') != -1:\n",
    "        new = input.replace('\\n','')\n",
    "    else:\n",
    "        new = input\n",
    "    \n",
    "    if counter < 3:   \n",
    "        group.append(new)\n",
    "        counter += 1\n",
    "    else:\n",
    "        group.append(new)\n",
    "        counter = 1\n",
    "        groups.append(group)\n",
    "        group = []\n",
    "\n",
    "for group in groups:\n",
    "    compart1 = group[0]\n",
    "    compart2 = group[1]\n",
    "    compart3 = group[2]\n",
    "    \n",
    "    common = set.intersection(*map(set,group))\n",
    "    common_char = list(common)[0]\n",
    "    \n",
    "    priority = {'a':1,'b':2,'c':3,'d':4,'e':5,'f':6,'g':7,'h':8,'i':9,'j':10,'k':11,'l':12,'m':13,'n':14,'o':15,\n",
    "                  'p':16,'q':17,'r':18,'s':19,'t':20,'u':21,'v':22,'w':23,'x':24,'y':25,'z':26,'A':27,'B':28,'C':29,\n",
    "                  'D':30,'E':31,'F':32,'G':33,'H':34,'I':35,'J':36,'K':37,'L':38,'M':39,'N':40,'O':41,'P':42,'Q':43,\n",
    "                  'R':44,'S':45,'T':46,'U':47,'V':48,'W':49,'X':50,'Y':51,'Z':52}\n",
    "    priorities.append(priority[common_char])\n",
    "\n",
    "print(sum(priorities))\n",
    "    \n"
   ]
  }
 ],
 "metadata": {
  "kernelspec": {
   "display_name": "Python 3.9.6 64-bit",
   "language": "python",
   "name": "python3"
  },
  "language_info": {
   "codemirror_mode": {
    "name": "ipython",
    "version": 3
   },
   "file_extension": ".py",
   "mimetype": "text/x-python",
   "name": "python",
   "nbconvert_exporter": "python",
   "pygments_lexer": "ipython3",
   "version": "3.9.6"
  },
  "orig_nbformat": 4,
  "vscode": {
   "interpreter": {
    "hash": "31f2aee4e71d21fbe5cf8b01ff0e069b9275f58929596ceb00d14d90e3e16cd6"
   }
  }
 },
 "nbformat": 4,
 "nbformat_minor": 2
}
