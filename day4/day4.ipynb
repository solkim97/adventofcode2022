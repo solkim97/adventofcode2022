{
 "cells": [
  {
   "cell_type": "code",
   "execution_count": 30,
   "metadata": {},
   "outputs": [
    {
     "name": "stdout",
     "output_type": "stream",
     "text": [
      "413\n"
     ]
    }
   ],
   "source": [
    "inputs = open('input.txt','r')\n",
    "\n",
    "counter = 0\n",
    "\n",
    "for input in inputs:\n",
    "    if input.find('\\n') != -1:\n",
    "        new = input.replace('\\n','')\n",
    "    else:\n",
    "        new = input\n",
    "\n",
    "    assignments = new.split(',')\n",
    "    assign1 = assignments[0]\n",
    "    assign2 = assignments[1]\n",
    "    \n",
    "    sequence1 = []\n",
    "    sequence2 = []\n",
    "    n = 1\n",
    "    \n",
    "    for assignment in assignments:\n",
    "        ran = assignment.split('-')\n",
    "        bottom = int(ran[0])\n",
    "        top = int(ran[1])\n",
    "        if n == 1:\n",
    "            for i in range(bottom, top+1):\n",
    "                sequence1.append(i)\n",
    "            n += 1\n",
    "        else:\n",
    "            for i in range(bottom, top+1):\n",
    "                sequence2.append(i)\n",
    "                \n",
    "    s1_in_s2 = []\n",
    "    s2_in_s1 = []\n",
    "    \n",
    "    for i in sequence1:\n",
    "        s1_in_s2.append(i in sequence2)\n",
    "    \n",
    "    for i in sequence2:\n",
    "        s2_in_s1.append(i in sequence1)\n",
    "        \n",
    "    if False in s1_in_s2:\n",
    "        is_s1_in_s2 = False\n",
    "    else:\n",
    "        is_s1_in_s2 = True\n",
    "    \n",
    "    if False in s2_in_s1:\n",
    "        is_s2_in_s1 = False\n",
    "    else:\n",
    "        is_s2_in_s1 = True\n",
    "    \n",
    "    if (is_s1_in_s2 == True or is_s2_in_s1 == True):\n",
    "        counter+=1\n",
    "    else:\n",
    "        counter+=0\n",
    "\n",
    "print(counter)     \n",
    "        "
   ]
  },
  {
   "cell_type": "markdown",
   "metadata": {},
   "source": [
    "## Part 2"
   ]
  },
  {
   "cell_type": "code",
   "execution_count": 31,
   "metadata": {},
   "outputs": [
    {
     "name": "stdout",
     "output_type": "stream",
     "text": [
      "806\n"
     ]
    }
   ],
   "source": [
    "inputs = open('input.txt','r')\n",
    "\n",
    "counter = 0\n",
    "\n",
    "for input in inputs:\n",
    "    if input.find('\\n') != -1:\n",
    "        new = input.replace('\\n','')\n",
    "    else:\n",
    "        new = input\n",
    "\n",
    "    assignments = new.split(',')\n",
    "    assign1 = assignments[0]\n",
    "    assign2 = assignments[1]\n",
    "    \n",
    "    sequence1 = []\n",
    "    sequence2 = []\n",
    "    n = 1\n",
    "    \n",
    "    for assignment in assignments:\n",
    "        ran = assignment.split('-')\n",
    "        bottom = int(ran[0])\n",
    "        top = int(ran[1])\n",
    "        if n == 1:\n",
    "            for i in range(bottom, top+1):\n",
    "                sequence1.append(i)\n",
    "            n += 1\n",
    "        else:\n",
    "            for i in range(bottom, top+1):\n",
    "                sequence2.append(i)\n",
    "                \n",
    "    s1_in_s2 = []\n",
    "    s2_in_s1 = []\n",
    "    \n",
    "    for i in sequence1:\n",
    "        s1_in_s2.append(i in sequence2)\n",
    "    \n",
    "    for i in sequence2:\n",
    "        s2_in_s1.append(i in sequence1)\n",
    "        \n",
    "    if True in s1_in_s2:\n",
    "        is_s1_in_s2 = True\n",
    "    else:\n",
    "        is_s1_in_s2 = False\n",
    "    \n",
    "    if True in s2_in_s1:\n",
    "        is_s2_in_s1 = True\n",
    "    else:\n",
    "        is_s2_in_s1 = False\n",
    "    \n",
    "    if (is_s1_in_s2 == True or is_s2_in_s1 == True):\n",
    "        counter+=1\n",
    "    else:\n",
    "        counter+=0\n",
    "\n",
    "print(counter) "
   ]
  }
 ],
 "metadata": {
  "kernelspec": {
   "display_name": "Python 3.9.6 64-bit",
   "language": "python",
   "name": "python3"
  },
  "language_info": {
   "codemirror_mode": {
    "name": "ipython",
    "version": 3
   },
   "file_extension": ".py",
   "mimetype": "text/x-python",
   "name": "python",
   "nbconvert_exporter": "python",
   "pygments_lexer": "ipython3",
   "version": "3.9.6"
  },
  "orig_nbformat": 4,
  "vscode": {
   "interpreter": {
    "hash": "31f2aee4e71d21fbe5cf8b01ff0e069b9275f58929596ceb00d14d90e3e16cd6"
   }
  }
 },
 "nbformat": 4,
 "nbformat_minor": 2
}
