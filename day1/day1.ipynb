{
 "cells": [
  {
   "cell_type": "markdown",
   "metadata": {},
   "source": [
    "## Part 1"
   ]
  },
  {
   "cell_type": "code",
   "execution_count": 54,
   "metadata": {},
   "outputs": [
    {
     "name": "stdout",
     "output_type": "stream",
     "text": [
      "68292\n"
     ]
    }
   ],
   "source": [
    "inputs = open('input.txt','r')\n",
    "\n",
    "elf_totals = []\n",
    "total = 0\n",
    "    \n",
    "for input in inputs:\n",
    "    if input != '\\n':\n",
    "        add = pd.to_numeric(input.replace('\\n',''))\n",
    "        total += add\n",
    "    else:\n",
    "        elf_totals.append(total)\n",
    "        total = 0\n",
    "        \n",
    "print(max(elf_totals))"
   ]
  },
  {
   "cell_type": "markdown",
   "metadata": {},
   "source": [
    "## Part 2"
   ]
  },
  {
   "cell_type": "code",
   "execution_count": 56,
   "metadata": {},
   "outputs": [
    {
     "name": "stdout",
     "output_type": "stream",
     "text": [
      "203203\n"
     ]
    }
   ],
   "source": [
    "sorted_totals = sorted(elf_totals, reverse=True)\n",
    "print(sum(sorted_totals[:3]))"
   ]
  }
 ],
 "metadata": {
  "kernelspec": {
   "display_name": "Python 3.9.6 64-bit",
   "language": "python",
   "name": "python3"
  },
  "language_info": {
   "codemirror_mode": {
    "name": "ipython",
    "version": 3
   },
   "file_extension": ".py",
   "mimetype": "text/x-python",
   "name": "python",
   "nbconvert_exporter": "python",
   "pygments_lexer": "ipython3",
   "version": "3.9.6"
  },
  "orig_nbformat": 4,
  "vscode": {
   "interpreter": {
    "hash": "31f2aee4e71d21fbe5cf8b01ff0e069b9275f58929596ceb00d14d90e3e16cd6"
   }
  }
 },
 "nbformat": 4,
 "nbformat_minor": 2
}
