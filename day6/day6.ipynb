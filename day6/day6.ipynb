{
 "cells": [
  {
   "cell_type": "markdown",
   "metadata": {},
   "source": [
    "## Part 1"
   ]
  },
  {
   "cell_type": "code",
   "execution_count": 39,
   "metadata": {},
   "outputs": [
    {
     "name": "stdout",
     "output_type": "stream",
     "text": [
      "1876\n"
     ]
    }
   ],
   "source": [
    "input = open('input.txt', 'r')\n",
    "\n",
    "stream = input.readline()\n",
    "\n",
    "for i in range(0, len(stream)-3, 1):\n",
    "    chars = stream[i] + stream[i+1] + stream[i+2] + stream[i+3]\n",
    "    if (len(set(chars)) == len(chars)) == True:\n",
    "        print(i + 4)\n",
    "        break\n",
    "    i += 1"
   ]
  },
  {
   "cell_type": "markdown",
   "metadata": {},
   "source": [
    "## Part 2"
   ]
  },
  {
   "cell_type": "code",
   "execution_count": 44,
   "metadata": {},
   "outputs": [
    {
     "name": "stdout",
     "output_type": "stream",
     "text": [
      "2202\n"
     ]
    }
   ],
   "source": [
    "input = open('input.txt', 'r')\n",
    "\n",
    "stream = input.readline()\n",
    "\n",
    "for i in range(0, len(stream)-3, 1):\n",
    "    chars = stream[i] + stream[i+1] + stream[i+2] + stream[i+3] + stream[i+4] + stream[i+5] + stream[i+6] + stream[i+7] + stream[i+8] + stream[i+9] + stream[i+10] + stream[i+11] + stream[i+12] + stream[i+13]\n",
    "    if (len(set(chars)) == len(chars)) == True:\n",
    "        print(i + 14)\n",
    "        break\n",
    "    i += 1"
   ]
  }
 ],
 "metadata": {
  "kernelspec": {
   "display_name": "Python 3.9.6 64-bit",
   "language": "python",
   "name": "python3"
  },
  "language_info": {
   "codemirror_mode": {
    "name": "ipython",
    "version": 3
   },
   "file_extension": ".py",
   "mimetype": "text/x-python",
   "name": "python",
   "nbconvert_exporter": "python",
   "pygments_lexer": "ipython3",
   "version": "3.9.6"
  },
  "orig_nbformat": 4,
  "vscode": {
   "interpreter": {
    "hash": "31f2aee4e71d21fbe5cf8b01ff0e069b9275f58929596ceb00d14d90e3e16cd6"
   }
  }
 },
 "nbformat": 4,
 "nbformat_minor": 2
}
