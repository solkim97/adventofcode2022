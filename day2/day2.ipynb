{
 "cells": [
  {
   "cell_type": "markdown",
   "metadata": {},
   "source": [
    "## Part 1"
   ]
  },
  {
   "cell_type": "code",
   "execution_count": 116,
   "metadata": {},
   "outputs": [
    {
     "name": "stdout",
     "output_type": "stream",
     "text": [
      "14264\n"
     ]
    }
   ],
   "source": [
    "inputs = open('input.txt','r')\n",
    "\n",
    "round_scores = []\n",
    "\n",
    "for input in inputs:\n",
    "    if input.find('\\n') != -1:\n",
    "        new = input.replace('\\n','')\n",
    "    else:\n",
    "        new = input\n",
    "        \n",
    "    round_choices = new.split(' ')\n",
    "    opponent = round_choices[0]\n",
    "    you = round_choices[1]\n",
    "\n",
    "    if opponent == \"A\": #rock\n",
    "        if you == \"X\": #rock\n",
    "            points = 4\n",
    "        elif you == \"Y\": #paper\n",
    "            points = 8\n",
    "        else: #scissors\n",
    "            points = 3\n",
    "    elif opponent == \"B\": #paper\n",
    "        if you == \"X\": #rock\n",
    "            points = 1\n",
    "        elif you == \"Y\": #paper\n",
    "            points = 5\n",
    "        else: #scissors\n",
    "            points = 9\n",
    "    else: #scissors\n",
    "        if you == \"X\": #rock\n",
    "            points = 7\n",
    "        elif you == \"Y\": #paper\n",
    "            points = 2\n",
    "        else: #scissors\n",
    "            points = 6\n",
    "    \n",
    "    round_scores.append(points)\n",
    "    \n",
    "print(sum(round_scores))"
   ]
  },
  {
   "cell_type": "markdown",
   "metadata": {},
   "source": [
    "## Part 2"
   ]
  },
  {
   "cell_type": "code",
   "execution_count": 118,
   "metadata": {},
   "outputs": [
    {
     "name": "stdout",
     "output_type": "stream",
     "text": [
      "12382\n"
     ]
    }
   ],
   "source": [
    "inputs = open('input.txt','r')\n",
    "\n",
    "round_scores = []\n",
    "\n",
    "for input in inputs:\n",
    "    if input.find('\\n') != -1:\n",
    "        new = input.replace('\\n','')\n",
    "    else:\n",
    "        new = input\n",
    "        \n",
    "    round_choices = new.split(' ')\n",
    "    opponent = round_choices[0]\n",
    "    you = round_choices[1]\n",
    "\n",
    "    if opponent == \"A\": #rock\n",
    "        if you == \"X\": #lose\n",
    "            points = 3\n",
    "        elif you == \"Y\": #draw\n",
    "            points = 4\n",
    "        else: #win\n",
    "            points = 8\n",
    "    elif opponent == \"B\": #paper\n",
    "        if you == \"X\": #lose\n",
    "            points = 1\n",
    "        elif you == \"Y\": #draw\n",
    "            points = 5\n",
    "        else: #win\n",
    "            points = 9\n",
    "    else: #scissors\n",
    "        if you == \"X\": #lose\n",
    "            points = 2\n",
    "        elif you == \"Y\": #draw\n",
    "            points = 6\n",
    "        else: #win\n",
    "            points = 7\n",
    "    \n",
    "    round_scores.append(points)\n",
    "    \n",
    "print(sum(round_scores))"
   ]
  }
 ],
 "metadata": {
  "kernelspec": {
   "display_name": "Python 3.9.6 64-bit",
   "language": "python",
   "name": "python3"
  },
  "language_info": {
   "codemirror_mode": {
    "name": "ipython",
    "version": 3
   },
   "file_extension": ".py",
   "mimetype": "text/x-python",
   "name": "python",
   "nbconvert_exporter": "python",
   "pygments_lexer": "ipython3",
   "version": "3.9.6"
  },
  "orig_nbformat": 4,
  "vscode": {
   "interpreter": {
    "hash": "31f2aee4e71d21fbe5cf8b01ff0e069b9275f58929596ceb00d14d90e3e16cd6"
   }
  }
 },
 "nbformat": 4,
 "nbformat_minor": 2
}
